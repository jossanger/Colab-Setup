{
  "nbformat": 4,
  "nbformat_minor": 0,
  "metadata": {
    "colab": {
      "name": "01_Colab_Setup.ipynb",
      "provenance": []
    },
    "kernelspec": {
      "name": "python3",
      "display_name": "Python 3"
    },
    "language_info": {
      "name": "python"
    }
  },
  "cells": [
    {
      "cell_type": "markdown",
      "source": [
        "Colab Setup"
      ],
      "metadata": {
        "id": "YXCUHkac5Ce2"
      }
    },
    {
      "cell_type": "markdown",
      "source": [
        "Queddeng, April Joyce F."
      ],
      "metadata": {
        "id": "YkIO82ut5Gju"
      }
    },
    {
      "cell_type": "code",
      "source": [
        "1 + 1"
      ],
      "metadata": {
        "colab": {
          "base_uri": "https://localhost:8080/"
        },
        "id": "XmQBJ5xH5NXb",
        "outputId": "1b1f23dc-7b3c-4ebd-e4ca-e8a3d2758079"
      },
      "execution_count": 4,
      "outputs": [
        {
          "output_type": "execute_result",
          "data": {
            "text/plain": [
              "2"
            ]
          },
          "metadata": {},
          "execution_count": 4
        }
      ]
    }
  ]
}